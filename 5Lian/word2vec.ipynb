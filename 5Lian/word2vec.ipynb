{
 "cells": [
  {
   "cell_type": "markdown",
   "metadata": {},
   "source": [
    "重要假设：文本中离得越近的词语相似度越高\n",
    "基于这个假设，word2vec用CBOM和skip-gram来计算词向量矩阵\n",
    "CBOW 用上下文来预测中心词\n",
    "skip-gram 用中心词来预测上下文"
   ]
  }
 ],
 "metadata": {
  "kernelspec": {
   "display_name": "torch12",
   "language": "python",
   "name": "python3"
  },
  "language_info": {
   "name": "python",
   "version": "3.9.16"
  },
  "orig_nbformat": 4
 },
 "nbformat": 4,
 "nbformat_minor": 2
}
