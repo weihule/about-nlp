{
 "cells": [
  {
   "cell_type": "markdown",
   "metadata": {},
   "source": [
    "# 安装spacy\n",
    "\n",
    "参考：\n",
    "[离线安装spacy](https://blog.csdn.net/wwmmddz/article/details/115491267)"
   ]
  },
  {
   "cell_type": "code",
   "execution_count": 1,
   "metadata": {},
   "outputs": [],
   "source": [
    "import spacy\n",
    "nlp = spacy.load('en_core_web_sm')\n"
   ]
  },
  {
   "cell_type": "markdown",
   "metadata": {},
   "source": [
    "# 文本处理"
   ]
  },
  {
   "cell_type": "code",
   "execution_count": 3,
   "metadata": {},
   "outputs": [
    {
     "name": "stdout",
     "output_type": "stream",
     "text": [
      "Weather\n",
      "is\n",
      "good\n",
      ",\n",
      "very\n",
      "windy\n",
      "and\n",
      "sunny\n",
      ".\n",
      "We\n",
      "have\n",
      "no\n",
      "classes\n",
      "in\n",
      "the\n",
      "afternoon\n",
      ".\n"
     ]
    }
   ],
   "source": [
    "doc = nlp('Weather is good, very windy and sunny. We have no classes in the afternoon.')\n",
    "# 分词\n",
    "for token in doc:\n",
    "    print(token)"
   ]
  },
  {
   "cell_type": "code",
   "execution_count": 4,
   "metadata": {},
   "outputs": [
    {
     "name": "stdout",
     "output_type": "stream",
     "text": [
      "Weather is good, very windy and sunny.\n",
      "We have no classes in the afternoon.\n"
     ]
    }
   ],
   "source": [
    "# 分句\n",
    "for sent in doc.sents:\n",
    "    print(sent.text)"
   ]
  },
  {
   "cell_type": "markdown",
   "metadata": {},
   "source": [
    "# 词性"
   ]
  },
  {
   "cell_type": "code",
   "execution_count": 5,
   "metadata": {},
   "outputs": [
    {
     "name": "stdout",
     "output_type": "stream",
     "text": [
      "Weather-NOUN\n",
      "is-AUX\n",
      "good-ADJ\n",
      ",-PUNCT\n",
      "very-ADV\n",
      "windy-ADJ\n",
      "and-CCONJ\n",
      "sunny-ADJ\n",
      ".-PUNCT\n",
      "We-PRON\n",
      "have-VERB\n",
      "no-DET\n",
      "classes-NOUN\n",
      "in-ADP\n",
      "the-DET\n",
      "afternoon-NOUN\n",
      ".-PUNCT\n"
     ]
    }
   ],
   "source": [
    "for token in doc:\n",
    "    print('{}-{}'.format(token, token.pos_))"
   ]
  },
  {
   "cell_type": "markdown",
   "metadata": {},
   "source": [
    "# 命名实体识别\n",
    "\n",
    "关于命名实体识别的讲解：\n",
    "\n",
    "[NLP-NER 命名实体识别详解之一](https://zhuanlan.zhihu.com/p/88544122)\n"
   ]
  },
  {
   "cell_type": "code",
   "execution_count": 6,
   "metadata": {},
   "outputs": [
    {
     "name": "stdout",
     "output_type": "stream",
     "text": [
      "Paris 10 15 GPE\n",
      "Jack 42 46 PERSON\n"
     ]
    }
   ],
   "source": [
    "doc_2 = nlp(\"I went to Paris where I met my old friend Jack from uni.\")\n",
    "for ent in doc_2.ents:\n",
    "    print(ent.text, ent.start_char, ent.end_char, ent.label_)"
   ]
  },
  {
   "cell_type": "code",
   "execution_count": 7,
   "metadata": {},
   "outputs": [
    {
     "data": {
      "text/html": [
       "<span class=\"tex2jax_ignore\"><div class=\"entities\" style=\"line-height: 2.5; direction: ltr\">I went to \n",
       "<mark class=\"entity\" style=\"background: #feca74; padding: 0.45em 0.6em; margin: 0 0.25em; line-height: 1; border-radius: 0.35em;\">\n",
       "    Paris\n",
       "    <span style=\"font-size: 0.8em; font-weight: bold; line-height: 1; border-radius: 0.35em; vertical-align: middle; margin-left: 0.5rem\">GPE</span>\n",
       "</mark>\n",
       " where I met my old friend \n",
       "<mark class=\"entity\" style=\"background: #aa9cfc; padding: 0.45em 0.6em; margin: 0 0.25em; line-height: 1; border-radius: 0.35em;\">\n",
       "    Jack\n",
       "    <span style=\"font-size: 0.8em; font-weight: bold; line-height: 1; border-radius: 0.35em; vertical-align: middle; margin-left: 0.5rem\">PERSON</span>\n",
       "</mark>\n",
       " from uni.</div></span>"
      ],
      "text/plain": [
       "<IPython.core.display.HTML object>"
      ]
     },
     "metadata": {},
     "output_type": "display_data"
    }
   ],
   "source": [
    "from spacy import displacy\n",
    "doc = nlp(\"I went to Paris where I met my old friend Jack from uni.\")\n",
    "displacy.render(doc, style='ent', jupyter=True)"
   ]
  },
  {
   "cell_type": "markdown",
   "metadata": {},
   "source": [
    "# 找到书中所有人物名字"
   ]
  },
  {
   "cell_type": "code",
   "execution_count": null,
   "metadata": {},
   "outputs": [],
   "source": [
    "def reaf_file(file_path):\n",
    "    with open(file_path, 'r', encoding='utf-8') as fr:\n",
    "        infos = fr.readlines()\n",
    "        return infos\n",
    "\n",
    "# 加载文本数据"
   ]
  }
 ],
 "metadata": {
  "kernelspec": {
   "display_name": "torch12",
   "language": "python",
   "name": "python3"
  },
  "language_info": {
   "codemirror_mode": {
    "name": "ipython",
    "version": 3
   },
   "file_extension": ".py",
   "mimetype": "text/x-python",
   "name": "python",
   "nbconvert_exporter": "python",
   "pygments_lexer": "ipython3",
   "version": "3.9.16"
  },
  "orig_nbformat": 4
 },
 "nbformat": 4,
 "nbformat_minor": 2
}
