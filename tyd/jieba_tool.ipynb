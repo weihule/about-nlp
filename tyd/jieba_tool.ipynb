{
 "cells": [
  {
   "cell_type": "markdown",
   "metadata": {},
   "source": [
    "# jieba安装\n",
    "\n",
    "安装命令\n",
    "pip install jieba -i https://pypi.tuna.tsinghua.edu.cn/simple"
   ]
  },
  {
   "cell_type": "markdown",
   "metadata": {},
   "source": [
    "# 分词工具"
   ]
  },
  {
   "cell_type": "code",
   "execution_count": 5,
   "metadata": {},
   "outputs": [
    {
     "name": "stdout",
     "output_type": "stream",
     "text": [
      "今天\n",
      "今天天气\n",
      "天天\n",
      "天气\n",
      "很\n",
      "好\n",
      "，\n",
      "适合\n",
      "合出\n",
      "出去\n",
      "散步\n",
      "----------\n",
      "今天天气\n",
      "很\n",
      "好\n",
      "，\n",
      "适合\n",
      "出去\n",
      "散步\n"
     ]
    }
   ],
   "source": [
    "import jieba\n",
    "\n",
    "string = '今天天气很好，适合出去散步'\n",
    "# 全模式\n",
    "seg_generator = jieba.cut(string, cut_all=True)\n",
    "for s in seg_generator:\n",
    "    print(s)\n",
    "\n",
    "print('-'*10)\n",
    "# 精确模式 ( 默认 )\n",
    "seg_generator = jieba.cut(string, cut_all=False)\n",
    "for s in seg_generator:\n",
    "    print(s)"
   ]
  },
  {
   "cell_type": "markdown",
   "metadata": {},
   "source": [
    "# 添加自定义词典"
   ]
  },
  {
   "cell_type": "code",
   "execution_count": null,
   "metadata": {},
   "outputs": [],
   "source": [
    "text = \"故宫的著名景点包括乾清宫、太和殿和黄琉璃瓦等\""
   ]
  }
 ],
 "metadata": {
  "kernelspec": {
   "display_name": "torch12",
   "language": "python",
   "name": "python3"
  },
  "language_info": {
   "codemirror_mode": {
    "name": "ipython",
    "version": 3
   },
   "file_extension": ".py",
   "mimetype": "text/x-python",
   "name": "python",
   "nbconvert_exporter": "python",
   "pygments_lexer": "ipython3",
   "version": "3.9.16"
  },
  "orig_nbformat": 4
 },
 "nbformat": 4,
 "nbformat_minor": 2
}
